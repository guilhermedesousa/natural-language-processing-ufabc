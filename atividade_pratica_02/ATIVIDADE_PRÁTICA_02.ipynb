{
  "nbformat": 4,
  "nbformat_minor": 0,
  "metadata": {
    "colab": {
      "provenance": [],
      "gpuType": "T4"
    },
    "kernelspec": {
      "name": "python3",
      "display_name": "Python 3"
    },
    "accelerator": "GPU"
  },
  "cells": [
    {
      "cell_type": "markdown",
      "metadata": {
        "id": "Y6QILOdpOjwv"
      },
      "source": [
        "# **Processamento de Linguagem Natural [2023.Q3]**\n",
        "Prof. Alexandre Donizeti Alves"
      ]
    },
    {
      "cell_type": "markdown",
      "metadata": {
        "id": "8m67OOx9MX_3"
      },
      "source": [
        "### **ATIVIDADE PRÁTICA 02 [Extração e Pré-processamento de Dados + Expressões Regulares]**\n"
      ]
    },
    {
      "cell_type": "markdown",
      "metadata": {
        "id": "5Gk0nHKabBT-"
      },
      "source": [
        "A **ATIVIDADE PRÁTICA 02** deve ser feita utilizando o **Google Colab** com uma conta\n",
        "sua vinculada ao Gmail. O link do seu notebook, armazenado no Google Drive, além do link de um repositório no GitHub e os principais resultados da atividade, devem ser enviados usando o seguinte formulário:\n",
        "\n",
        "> https://forms.gle/83JggUJ1mhgWviEaA\n",
        "\n",
        "\n",
        "**IMPORTANTE**: A submissão deve ser feita até o dia 16/10 (segunda-feira) APENAS POR UM INTEGRANTE DA EQUIPE, até às 23h59. Por favor, lembre-se de dar permissão de ACESSO IRRESTRITO para o professor da disciplina de PLN."
      ]
    },
    {
      "cell_type": "markdown",
      "metadata": {
        "id": "D7hJlilKM485"
      },
      "source": [
        "### **EQUIPE**\n",
        "\n",
        "---"
      ]
    },
    {
      "cell_type": "markdown",
      "source": [],
      "metadata": {
        "id": "S1lsNvaj4coM"
      }
    },
    {
      "cell_type": "code",
      "source": [],
      "metadata": {
        "id": "3CU5h2WstS9j"
      },
      "execution_count": null,
      "outputs": []
    },
    {
      "cell_type": "markdown",
      "source": [
        "**POR FAVOR, PREENCHER OS INTEGRANDES DA SUA EQUIPE:**\n",
        "\n",
        "\n",
        "**Integrante 01:**\n",
        "\n",
        "`Carlos Henrique Alencar Lima 11202021040`\n",
        "\n",
        "**Integrante 02:**\n",
        "\n",
        "`Guilherme de Sousa Santos 11201921175`\n",
        "\n",
        "**Integrante 03:**\n",
        "\n",
        "`Jose Roberto de Oliveira 11201920397`"
      ],
      "metadata": {
        "id": "tnIArN0QY-Ek"
      }
    },
    {
      "cell_type": "markdown",
      "source": [
        "### **LIVRO**\n",
        "---"
      ],
      "metadata": {
        "id": "6yExhaebs-nD"
      }
    },
    {
      "cell_type": "markdown",
      "source": [
        "`Processamento de Linguagem Natural - Conceitos, Técnicas e Aplicações em Português.`\n",
        "\n",
        ">\n",
        "\n",
        "Disponível gratuitamente em:\n",
        "  \n",
        "  > https://brasileiraspln.com/livro-pln/1a-edicao/.\n",
        "\n",
        "\n",
        "**POR FAVOR, PREENCHER OS CAPITULOS SELECIONADOS PARA A SUA EQUIPE:**\n",
        "\n",
        "`Primeiro capítulo: Capítulo 4`\n",
        "\n",
        "`Segundo capítulo: Capítulo 22`\n",
        "\n"
      ],
      "metadata": {
        "id": "DjJM_qhEZRy6"
      }
    },
    {
      "cell_type": "markdown",
      "metadata": {
        "id": "EtjgWQRzNphL"
      },
      "source": [
        "### **DESCRIÇÃO**\n",
        "---"
      ]
    },
    {
      "cell_type": "markdown",
      "source": [
        "Implementar um `notebook` no `Google Colab` para identificar ERROS em 2 (DOIS) capítulos do livro **Processamento de Linguagem Natural - Conceitos, Técnicas e Aplicações em Português**.\n",
        "\n",
        "Os capítulos devem ser selecionados na seguinte planilha:\n",
        "\n",
        "https://docs.google.com/spreadsheets/d/1ZutzQ3v1OJgsgzCvCwxXlRIQ3ChXNlHNvB63JQvYsbo/edit?usp=sharing\n",
        "\n",
        ">\n",
        "\n",
        "**IMPORTANTE:** É obrigatório usar o e-mail da UFABC.\n",
        "\n",
        ">\n",
        "\n",
        "\n",
        "**DICA:** Por favor, insira o seu nome ou da sua equipe na ordem definida na planilha. Por exemplo, se a linha correspondente ao o GRUPO 5 já foi preenchida, a próxima equipe (GRUPO 6) deverá ser informada na próxima linha da planilha.\n",
        "\n"
      ],
      "metadata": {
        "id": "fXTwkiiGs2BV"
      }
    },
    {
      "cell_type": "markdown",
      "source": [
        "### **TIPOS DE ERROS**\n",
        "---\n"
      ],
      "metadata": {
        "id": "eD_AJQhrwJQ6"
      }
    },
    {
      "cell_type": "markdown",
      "source": [
        "**IMPORTANTE**: consulta feita no ChatGPT\n",
        ">\n",
        "\n",
        "Um `programa Python` que utilize `expressões regulares` pode ajudar a identificar vários **tipos de erros** comuns em **livros**, especialmente erros de formatação e problemas relacionados à consistência do texto. Aqui estão alguns exemplos de erros comuns que podem ser identificados usando expressões regulares:\n",
        "\n",
        "* Erros de gramática e ortografia: erros de digitação, concordância verbal e nominal, uso incorreto de pontuação e outros erros gramaticais.\n",
        "\n",
        "* Problemas de formatação: você pode usar expressões regulares para encontrar erros de formatação, como espaços em excesso, tabulações inadequadas ou alinhamentos inconsistentes.\n",
        "\n",
        "* Abreviações e acrônimos: você pode usar expressões regulares para encontrar abreviações ou acrônimos que não foram definidos ou explicados anteriormente no texto.\n",
        "\n",
        "* Citações e referências: expressões regulares podem ser úteis para localizar citações ou referências que precisam de formatação especial.\n",
        "\n",
        "* OUTROS TIPOS DE ERROS: não considerem apenas os tipos de erros citados acima.\n",
        "\n",
        "\n",
        "**IMPORTANTE:** Lembre-se de que expressões regulares podem ser poderosas, mas também complexas. Dependendo da complexidade dos erros que você deseja identificar, pode ser necessário ajustar as expressões regulares de acordo com as características específicas do seu texto. Além disso, é importante ter em mente que as expressões regulares podem não ser a melhor ferramenta para todos os tipos de erros em livros, especialmente problemas mais contextuais ou semânticos, que podem exigir abordagens de PLN mais avançadas.\n",
        "\n",
        "\n",
        "\n"
      ],
      "metadata": {
        "id": "gz0DTI0KYmn6"
      }
    },
    {
      "cell_type": "markdown",
      "source": [
        "### **CRITÉRIOS DE AVALIAÇÃO**\n",
        "---\n"
      ],
      "metadata": {
        "id": "gWsBYQNtxmum"
      }
    },
    {
      "cell_type": "markdown",
      "source": [
        "A equipe que **realizar mais testes** e/ou **identificar mais erros** terá o peso diminuido na AVALIAÇÃO (Prova Escrita) em **25%** (caindo de 40 para 30). Os testes e possíveis erros devem ser contabizados de maneira separada.\n",
        "\n",
        ">\n",
        "\n",
        "Além disso, **por se tratar de um livro**, há um teste importante que deve ser feito. Lembre-se que o teste deve ser feito utilizando expressões regulares. A equipe que realizar esse teste, mesmo que o erro não ocorra nos capítulos selecionados, terá o peso diminuido na AVALIAÇÃO (Prova Escrita) em **25%** (caindo de 40 para 30).\n",
        "\n",
        "> A equipe pode considerar outros capítulos do livro para tentar identificar esse tipo de erro.\n",
        "\n",
        "**Se for a mesma equipe, o peso da avaliação será reduzido em 50% (caindo de 40 para 20)**.\n",
        "\n",
        ">\n",
        "\n",
        "**IMPORTANTE**: a diminuição no peso da AVALIAÇÃO será aplicado para todos os membros da equipe. Esse critério será aplicado apenas para uma equipe, considerando como critério de desempate a equipe que entregar primeiro a atividade no formulário.\n",
        "\n",
        "\n",
        "\n"
      ],
      "metadata": {
        "id": "5iHdx4BXYruQ"
      }
    },
    {
      "cell_type": "markdown",
      "source": [
        "### **IMPLEMENTAÇÃO**\n",
        "---"
      ],
      "metadata": {
        "id": "nw09lujGvfjc"
      }
    },
    {
      "cell_type": "code",
      "source": [
        "# Imports\n",
        "import requests\n",
        "from bs4 import BeautifulSoup\n",
        "import re\n",
        "\n",
        "!pip install pyspellchecker\n",
        "\n",
        "from spellchecker import SpellChecker"
      ],
      "metadata": {
        "colab": {
          "base_uri": "https://localhost:8080/"
        },
        "id": "ozvPZPyMZ4So",
        "outputId": "4647c13b-ad66-4053-dd38-df527e62cbf0"
      },
      "execution_count": null,
      "outputs": [
        {
          "output_type": "stream",
          "name": "stdout",
          "text": [
            "Collecting pyspellchecker\n",
            "  Downloading pyspellchecker-0.7.2-py3-none-any.whl (3.4 MB)\n",
            "\u001b[2K     \u001b[90m━━━━━━━━━━━━━━━━━━━━━━━━━━━━━━━━━━━━━━━━\u001b[0m \u001b[32m3.4/3.4 MB\u001b[0m \u001b[31m29.3 MB/s\u001b[0m eta \u001b[36m0:00:00\u001b[0m\n",
            "\u001b[?25hInstalling collected packages: pyspellchecker\n",
            "Successfully installed pyspellchecker-0.7.2\n"
          ]
        }
      ]
    },
    {
      "cell_type": "code",
      "source": [
        "# URL do Capítulo 4\n",
        "url_cap_4 = 'https://brasileiraspln.com/livro-pln/1a-edicao/parte3/cap4/cap4.html'\n",
        "\n",
        "# URL do Capítulo 22\n",
        "url_cap_22 = 'https://brasileiraspln.com/livro-pln/1a-edicao/parte9/cap22/cap22.html'\n",
        "\n",
        "chapters = [url_cap_4, url_cap_22]"
      ],
      "metadata": {
        "id": "u17yyTXYs20N"
      },
      "execution_count": null,
      "outputs": []
    },
    {
      "cell_type": "code",
      "source": [
        "def get_text_from_paragraphs(paragraphs):\n",
        "  text = ''\n",
        "\n",
        "  for p in paragraphs:\n",
        "    text += p.getText() + \"\\n\"\n",
        "\n",
        "  return text"
      ],
      "metadata": {
        "id": "PI3-gjL3uRGM"
      },
      "execution_count": null,
      "outputs": []
    },
    {
      "cell_type": "markdown",
      "source": [
        "## Correção Ortográfica"
      ],
      "metadata": {
        "id": "DXxamcYuvUNM"
      }
    },
    {
      "cell_type": "code",
      "source": [
        "def print_erros_ortograficos(text):\n",
        "  print('# Erros de gramática e ortografia')\n",
        "  print('')\n",
        "\n",
        "  corretor = SpellChecker(language='pt')\n",
        "  palavras = text.split()\n",
        "\n",
        "  palavras_corrigidas = []\n",
        "  palavras_erradas = []\n",
        "  for palavra in palavras:\n",
        "    palavra_corrigida = corretor.correction(palavra)\n",
        "    if palavra_corrigida != palavra:\n",
        "      palavras_erradas.append(str(palavra))\n",
        "      palavras_corrigidas.append(str(palavra_corrigida))\n",
        "\n",
        "  palavras_c = \", \".join(palavras_corrigidas)\n",
        "  palavras_e = \", \".join(palavras_erradas)\n",
        "\n",
        "  print(f'Palavras erradas: {palavras_e}')\n",
        "  print(f'Palavras corretas: {palavras_c}')\n",
        "  print(f'Quantidade de erros: {str(len(palavras_corrigidas))}')"
      ],
      "metadata": {
        "id": "0FV8rjQ2vbvs"
      },
      "execution_count": null,
      "outputs": []
    },
    {
      "cell_type": "markdown",
      "source": [
        "## Formatação"
      ],
      "metadata": {
        "id": "y3ruD9Hiunt1"
      }
    },
    {
      "cell_type": "code",
      "source": [
        "def print_formating_errors(text):\n",
        "  print('# Problemas de formatação')\n",
        "  print('')\n",
        "\n",
        "  print_multiple_whitespaces(text)\n",
        "  print_inconsistent_tabulations(text)"
      ],
      "metadata": {
        "id": "as4n6fgk18hZ"
      },
      "execution_count": null,
      "outputs": []
    },
    {
      "cell_type": "code",
      "source": [
        "def print_multiple_whitespaces(text):\n",
        "  result = re.findall(r'[\" \"]{2,}', text)\n",
        "\n",
        "  print(\"Espaços em excesso\")\n",
        "  print(result)\n",
        "  print(\"Quantidade de erros: \" + str(len(result)))\n",
        "  print(\"\")"
      ],
      "metadata": {
        "id": "vitlOzCbPkxF"
      },
      "execution_count": null,
      "outputs": []
    },
    {
      "cell_type": "code",
      "source": [
        "def print_multiple_line_breaks(text):\n",
        "  result = re.findall(r'\\n{2,}', text)\n",
        "\n",
        "  print(\"Quebra linha em excesso\")\n",
        "  print(result)\n",
        "  print(\"Quantidade de erros: \" + str(len(result)))\n",
        "  print(\"\")"
      ],
      "metadata": {
        "id": "kegzDOns8-yR"
      },
      "execution_count": null,
      "outputs": []
    },
    {
      "cell_type": "code",
      "source": [
        "def print_texto_mal_formatada(text):\n",
        "  # text = \"Fui almoçar e fi/nquei comendo no.\"\n",
        "  result = re.findall(r'\\b\\w*[^A-Za-zÀ-ü\\s\\d./-]\\w*\\b', text)\n",
        "\n",
        "  print(\"Texto mal formatado\")\n",
        "  print(result)\n",
        "  print(\"Quantidade de erros: \" + str(len(result)))\n",
        "  print(\"\")"
      ],
      "metadata": {
        "id": "Q5UKwfvKwwJ7"
      },
      "execution_count": null,
      "outputs": []
    },
    {
      "cell_type": "code",
      "source": [
        "def print_inconsistent_tabulations(text):\n",
        "  result = re.findall(r'\\t{2,}', text)\n",
        "\n",
        "  print(\"Tabulações inconsistentes\")\n",
        "  print(result)\n",
        "  print(\"Quantidade de erros: \" + str(len(result)))\n",
        "  print(\"\")"
      ],
      "metadata": {
        "id": "lb3pF7QePmR9"
      },
      "execution_count": null,
      "outputs": []
    },
    {
      "cell_type": "markdown",
      "source": [
        "## Abreviações e Acrônimos"
      ],
      "metadata": {
        "id": "A-tf8dA2shCg"
      }
    },
    {
      "cell_type": "code",
      "source": [
        "def print_undefined_abbreviations(text):\n",
        "  print('# Citações e referências')\n",
        "  print('')\n",
        "\n",
        "  defined_abbreviations = find_defined_abbreviations(text)\n",
        "\n",
        "  abreviations = re.findall(r'\\b[A-Z][A-Z]+', text)\n",
        "  undefined_abreviations = []\n",
        "\n",
        "  for abbreviation in abreviations:\n",
        "    if (abbreviation not in defined_abbreviations) and (abbreviation not in undefined_abreviations):\n",
        "      undefined_abreviations.append(abbreviation)\n",
        "\n",
        "  print(\"Abreviações e acrônimos definidos\")\n",
        "  print(defined_abbreviations)\n",
        "  print(\"Quantidade: \" + str(len(defined_abbreviations)))\n",
        "  print(\"\")\n",
        "\n",
        "  print(\"Abreviações e acrônimos NÃO definidos\")\n",
        "  print(undefined_abreviations)\n",
        "  print(\"Quantidade de erros: \" + str(len(undefined_abreviations)))\n",
        "  print(\"\")"
      ],
      "metadata": {
        "id": "nWhA_QBNwkVo"
      },
      "execution_count": null,
      "outputs": []
    },
    {
      "cell_type": "code",
      "source": [
        "def find_defined_abbreviations(text):\n",
        "  abbreviations = re.findall(r'\\b[A-Z][A-Z]+ \\([^)]+\\)', text)\n",
        "  defined_abbreviations = []\n",
        "\n",
        "  for abbreviation in abbreviations:\n",
        "    is_defined = check_abbreviation_definition(abbreviation)\n",
        "\n",
        "    if (is_defined):\n",
        "      defined_abbreviations.append(abbreviation.split(\" \")[0])\n",
        "\n",
        "  return defined_abbreviations"
      ],
      "metadata": {
        "id": "I62gdIKoPtJ9"
      },
      "execution_count": null,
      "outputs": []
    },
    {
      "cell_type": "code",
      "source": [
        "def check_abbreviation_definition(abbreviation):\n",
        "  abbreviation_initials = abbreviation.split(\" \")[0]\n",
        "  abbreviation_initials = re.findall(r'[A-Z]', abbreviation_initials)\n",
        "\n",
        "  potential_definition = re.findall(r'\\([^)]+\\)', abbreviation)[0]\n",
        "  defintion_initials = re.findall(r'[A-Z]', potential_definition)\n",
        "\n",
        "  for initial in abbreviation_initials:\n",
        "    if initial not in defintion_initials:\n",
        "      return False\n",
        "\n",
        "  return True"
      ],
      "metadata": {
        "id": "fYdnRqdYuw5Y"
      },
      "execution_count": null,
      "outputs": []
    },
    {
      "cell_type": "markdown",
      "source": [
        "## Referências"
      ],
      "metadata": {
        "id": "4P0wTze7BiWi"
      }
    },
    {
      "cell_type": "code",
      "source": [
        "def print_referencias_mal_formatadas(text):\n",
        "  # text = \"Fui almoçar e fi/nquei comendo no.\"\n",
        "  result = re.findall(r'\\([A-Za-z\\s]+;\\s[A-Za-z\\s]+,\\s\\d{4}\\)', text)\n",
        "\n",
        "  print(\"Referências mal formatadas\")\n",
        "  print(result)\n",
        "  print(\"Quantidade de erros: \" + str(len(result)))\n",
        "  print(\"\")"
      ],
      "metadata": {
        "id": "vSUGC9gUBmZf"
      },
      "execution_count": null,
      "outputs": []
    },
    {
      "cell_type": "markdown",
      "source": [
        "## Test"
      ],
      "metadata": {
        "id": "a00qkjcdvNvj"
      }
    },
    {
      "cell_type": "code",
      "source": [
        "for cha in chapters:\n",
        "  print(cha)\n",
        "  response = requests.get(cha)\n",
        "  soup = BeautifulSoup(response.content, 'html.parser')\n",
        "  book_text_container = soup.find('main')\n",
        "  paragraphs = book_text_container.find_all(['h1', 'h2', 'h3', 'h4', 'h5', 'h6', 'p'])\n",
        "\n",
        "  text = get_text_from_paragraphs(paragraphs)\n",
        "\n",
        "  print_erros_ortograficos(text)\n",
        "  print_multiple_line_breaks(text)\n",
        "  print_texto_mal_formatada(text)\n",
        "  print_formating_errors(text)\n",
        "  print_undefined_abbreviations(text)"
      ],
      "metadata": {
        "id": "V_VFzCRTPjNW"
      },
      "execution_count": null,
      "outputs": []
    }
  ]
}